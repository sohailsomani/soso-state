{
 "cells": [
  {
   "cell_type": "code",
   "execution_count": 1,
   "id": "humanitarian-harvard",
   "metadata": {
    "ExecuteTime": {
     "end_time": "2021-02-12T18:10:27.423770Z",
     "start_time": "2021-02-12T18:10:27.405405Z"
    }
   },
   "outputs": [],
   "source": [
    "%load_ext autoreload\n",
    "%autoreload 2"
   ]
  },
  {
   "cell_type": "markdown",
   "id": "bearing-thunder",
   "metadata": {},
   "source": [
    "This is a very simple example but shows how it is possible to structure your view/model in a hierarchical manner and use submodels to create reusable behavior, in this case the `Chart` widget relies only on the `Chart` state.\n",
    "\n",
    "[model.py](model.py) shows the structure of the state.\n",
    "\n",
    "Within [ui.py](ui.py), in particular, pay attention to `bindDropdown` copied below. Notice that we can read and write separate aspects of a state tree without knowing anything about the larger application through the use of submodels.\n",
    "\n",
    "```python\n",
    "bindDropdown(state.SubModel(m,lambda x: x.tickers),\n",
    "             state.SubModel(m,lambda x: x.chart.selected_ticker)),\n",
    "\n",
    "```\n",
    "\n",
    "```python\n",
    "def bindDropdown(options: state.protocols.Model[typing.List[state.T]],\n",
    "                 target: state.protocols.Model[state.T]) -> Dropdown:\n",
    "    dropdown = Dropdown()\n",
    "\n",
    "    def update_options(options:typing.List[state.T]) -> None:\n",
    "        dropdown.options = [str(s) for s in options]\n",
    "\n",
    "    options.observe(lambda x: x, update_options)\n",
    "\n",
    "    def update_target(newvalue:typing.Any) -> None:\n",
    "        target.restore(options.state[newvalue['new']])\n",
    "\n",
    "    dropdown.observe(update_target, 'index')\n",
    "    return dropdown\n",
    "```\n",
    "\n",
    "The `Chart` widget knows nothing about how its data is generated, in this case, we can see in [model.py](model.py) that it is a simple GBM generator. One can imagine this loaded from a database or the web without modifying anything except how the data is loaded to its appropriate place in the tree."
   ]
  },
  {
   "cell_type": "code",
   "execution_count": 3,
   "id": "oriental-vacation",
   "metadata": {
    "ExecuteTime": {
     "end_time": "2021-02-12T18:10:49.925035Z",
     "start_time": "2021-02-12T18:10:49.831636Z"
    }
   },
   "outputs": [
    {
     "data": {
      "application/vnd.jupyter.widget-view+json": {
       "model_id": "c6c5e6bb62bc41509cfb614157810e8e",
       "version_major": 2,
       "version_minor": 0
      },
      "text/plain": [
       "UI(children=(Dropdown(options=('TICK1', 'TICK2', 'TICK3'), value='TICK1'), Chart({\n",
       "    'data': [{'close': arra…"
      ]
     },
     "metadata": {},
     "output_type": "display_data"
    }
   ],
   "source": [
    "from examples.notebooks.main import run\n",
    "\n",
    "model,gui = run()"
   ]
  }
 ],
 "metadata": {
  "hide_input": false,
  "kernelspec": {
   "display_name": "Python 3",
   "language": "python",
   "name": "python3"
  },
  "language_info": {
   "codemirror_mode": {
    "name": "ipython",
    "version": 3
   },
   "file_extension": ".py",
   "mimetype": "text/x-python",
   "name": "python",
   "nbconvert_exporter": "python",
   "pygments_lexer": "ipython3",
   "version": "3.8.5"
  }
 },
 "nbformat": 4,
 "nbformat_minor": 5
}
